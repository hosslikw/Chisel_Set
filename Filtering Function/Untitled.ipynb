{
 "cells": [
  {
   "cell_type": "code",
   "execution_count": 1,
   "id": "f5145a18",
   "metadata": {},
   "outputs": [
    {
     "name": "stderr",
     "output_type": "stream",
     "text": [
      "2023-11-0119:10:04 - 'mbers' not found in my_dic for file Numbers\n",
      "2023-11-0119:10:04 - 'Store' not found in my_dic for file .DS_Store\n",
      "2023-11-0119:10:04 - '_PPro' not found in my_dic for file Stills12_PPro.png\n",
      "2023-11-0119:10:04 - '_PPro' not found in my_dic for file Still6_PPro.png\n",
      "2023-11-0119:10:04 - '_PPro' not found in my_dic for file Still7_PPro.png\n",
      "2023-11-0119:10:04 - 'older' not found in my_dic for file HighlightedFolder.svg\n",
      "2023-11-0119:10:04 - '_PPro' not found in my_dic for file Stills1a_PPro.png\n",
      "2023-11-0119:10:04 - '_PPro' not found in my_dic for file Stills1a_PPro.psd\n",
      "2023-11-0119:10:04 - 'Wares' not found in my_dic for file BDSAssortedWares.psd\n",
      "2023-11-0119:10:04 - 'r2023' not found in my_dic for file BDS_Poster2023.png\n",
      "2023-11-0119:10:04 - 'Click' not found in my_dic for file MouseClick\n",
      "2023-11-0119:10:04 - '_PPro' not found in my_dic for file Still5_PPro.png\n",
      "2023-11-0119:10:04 - '_PPro' not found in my_dic for file Still4_PPro.png\n",
      "2023-11-0119:10:04 - 'till1' not found in my_dic for file Still1.png\n",
      "2023-11-0119:10:04 - '_PPro' not found in my_dic for file Still9_PPro.psd\n",
      "2023-11-0119:10:04 - '_PPro' not found in my_dic for file Untitled-1_PPro.fla\n",
      "2023-11-0119:10:04 - '_PPro' not found in my_dic for file Still2_PPro.png\n",
      "2023-11-0119:10:04 - '_PPro' not found in my_dic for file Still3_PPro.png\n",
      "2023-11-0119:10:04 - '_PPro' not found in my_dic for file Still8_PPro.png\n",
      "2023-11-0119:10:04 - '_PPro' not found in my_dic for file Still9_PPro.png\n"
     ]
    }
   ],
   "source": [
    "import os\n",
    "import shutil\n",
    "import json\n",
    "import logging\n",
    "\n",
    "logging.basicConfig(level=logging.INFO,\n",
    "                    format='%(asctime)s - %(message)s',\n",
    "                    datefmt='%Y-%m-%d%H:%M:%S')\n",
    "\n",
    "# Load the dictionary from the JSON file\n",
    "with open(\"/Users/Kyle/Applications/Ref_OrganizingApp/App/Dict.json\", \"r\") as json_file:\n",
    "    my_dic = json.load(json_file)\n",
    "\n",
    "source_folder = \"/Users/Kyle/Desktop/Desktop\"\n",
    "\n",
    "# Create directories for all values in my_dic\n",
    "for path in my_dic.values():\n",
    "    os.makedirs(path, exist_ok=True)\n",
    "\n",
    "# Go through all files in the source folder\n",
    "for file_name in os.listdir(source_folder):\n",
    "    # Get the root of the filename (without extension) and then its last 5 characters\n",
    "    root = os.path.splitext(file_name)[0]\n",
    "    ot = root[-5:]\n",
    "\n",
    "    # Check if ot exists in my_dic's keys, if yes, move the file\n",
    "    destination_path = None\n",
    "    for key, value in my_dic.items():\n",
    "        if ot.lower() in key.lower():\n",
    "            destination_path = value\n",
    "            break\n",
    "\n",
    "    if destination_path:\n",
    "        logging.info(f\"Moving {file_name} to {destination_path}\")\n",
    "        shutil.move(os.path.join(source_folder, file_name), destination_path)\n",
    "    else:\n",
    "        logging.warning(f\"'{ot}' not found in my_dic for file {file_name}\")\n"
   ]
  },
  {
   "cell_type": "code",
   "execution_count": null,
   "id": "32ddd208",
   "metadata": {},
   "outputs": [],
   "source": []
  }
 ],
 "metadata": {
  "kernelspec": {
   "display_name": "Python 3 (ipykernel)",
   "language": "python",
   "name": "python3"
  },
  "language_info": {
   "codemirror_mode": {
    "name": "ipython",
    "version": 3
   },
   "file_extension": ".py",
   "mimetype": "text/x-python",
   "name": "python",
   "nbconvert_exporter": "python",
   "pygments_lexer": "ipython3",
   "version": "3.11.5"
  }
 },
 "nbformat": 4,
 "nbformat_minor": 5
}
